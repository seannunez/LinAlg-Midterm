{
  "nbformat": 4,
  "nbformat_minor": 0,
  "metadata": {
    "kernelspec": {
      "display_name": "Python 3",
      "language": "python",
      "name": "python3"
    },
    "language_info": {
      "codemirror_mode": {
        "name": "ipython",
        "version": 3
      },
      "file_extension": ".py",
      "mimetype": "text/x-python",
      "name": "python",
      "nbconvert_exporter": "python",
      "pygments_lexer": "ipython3",
      "version": "3.8.3"
    },
    "colab": {
      "name": "LinAlg-Midterms.ipynb",
      "provenance": [],
      "toc_visible": true
    }
  },
  "cells": [
    {
      "cell_type": "markdown",
      "metadata": {
        "id": "SnCypWooLH5K"
      },
      "source": [
        "<h1>Linear Algebra (CpE210A)"
      ]
    },
    {
      "cell_type": "markdown",
      "metadata": {
        "id": "q7S68YOXLH5P"
      },
      "source": [
        "<h3>Midterms Project"
      ]
    },
    {
      "cell_type": "markdown",
      "metadata": {
        "id": "rJs6AiysLH5P"
      },
      "source": [
        "Coded and submitted by:<br>\n",
        "<i>Nuñez, Sean Patrick N.<br>\n",
        "    201912068 <br>\n",
        "   58051 </i>"
      ]
    },
    {
      "cell_type": "markdown",
      "metadata": {
        "id": "9iiimW8FLH5P"
      },
      "source": [
        "Directions\n",
        "This Jupyter Notebook will serve as your base code for your Midterm Project. You must further format and provide complete discussion on the given topic. \n",
        "- Provide all necessary explanations for specific code blocks. \n",
        "- Provide illustrations for key results.\n",
        "- Observe clean code (intuitive variable names, proper commenting, proper code spacing)\n",
        "- Provide a summary discussion at the end\n",
        "\n",
        "Failure to use this format or failure to update the document will be given a deduction equivalent to 50% of the original score. "
      ]
    },
    {
      "cell_type": "markdown",
      "metadata": {
        "id": "gbvxh3EILH5Q"
      },
      "source": [
        "### Case"
      ]
    },
    {
      "cell_type": "markdown",
      "metadata": {
        "id": "Kde5dZmHLH5Q"
      },
      "source": [
        "Bebang is back to consult you about her business. Furthering her data analytics initiative she asks you for help to compute some relevant data. Now she is asking you to compute and visualize her sales and costs for the past year. She has given you the datasets attached to her request."
      ]
    },
    {
      "cell_type": "markdown",
      "metadata": {
        "id": "2Ky38OfILH5Q"
      },
      "source": [
        "### Problem"
      ]
    },
    {
      "cell_type": "markdown",
      "metadata": {
        "id": "31g9gkCELH5Q"
      },
      "source": [
        "State and explain Bebang's problem here and provide the deliverables."
      ]
    },
    {
      "cell_type": "markdown",
      "metadata": {
        "id": "_4v9UlIcLH5R"
      },
      "source": [
        "# Proof of Concept"
      ]
    },
    {
      "cell_type": "markdown",
      "metadata": {
        "id": "gPQvcAmNLH5R"
      },
      "source": [
        "Now that you have a grasp on the requirements we need to start with making a program to prove that her problem is solvable. As a Linear Algebra student, we will be focusin on applying vector operations to meet her needs. First, we need to import her data. We will use the `pandas` library for this. For more information you can look into their documentation [here](https://pandas.pydata.org/)."
      ]
    },
    {
      "cell_type": "markdown",
      "metadata": {
        "id": "kJRSkrK_FuFl"
      },
      "source": [
        ""
      ]
    },
    {
      "cell_type": "code",
      "metadata": {
        "id": "Q6hkQomrLH5R",
        "colab": {
          "base_uri": "https://localhost:8080/",
          "height": 162
        },
        "outputId": "f52bc59c-fd3b-44ce-df56-8447394c3538"
      },
      "source": [
        "import pandas as pd\n",
        "\n",
        "file_prices = \"bebang prices.csv\"\n",
        "file_sales = \"bebang sales.csv\"\n",
        "\n",
        "df_prices = pd.read_csv(file_prices, index_col=0)\n",
        "df_sales = pd.read_csv(file_sales)\n",
        "\n",
        "\n",
        "## Let's check what's in df_prices\n",
        "df_prices"
      ],
      "execution_count": 206,
      "outputs": [
        {
          "output_type": "execute_result",
          "data": {
            "text/html": [
              "<div>\n",
              "<style scoped>\n",
              "    .dataframe tbody tr th:only-of-type {\n",
              "        vertical-align: middle;\n",
              "    }\n",
              "\n",
              "    .dataframe tbody tr th {\n",
              "        vertical-align: top;\n",
              "    }\n",
              "\n",
              "    .dataframe thead th {\n",
              "        text-align: right;\n",
              "    }\n",
              "</style>\n",
              "<table border=\"1\" class=\"dataframe\">\n",
              "  <thead>\n",
              "    <tr style=\"text-align: right;\">\n",
              "      <th></th>\n",
              "      <th>red velvet</th>\n",
              "      <th>oreo</th>\n",
              "      <th>sugar glazed</th>\n",
              "      <th>almond honey</th>\n",
              "      <th>matcha</th>\n",
              "      <th>strawberry cream</th>\n",
              "      <th>brown sugar boba</th>\n",
              "      <th>furits and nuts</th>\n",
              "      <th>dark chocolate</th>\n",
              "      <th>chocolate and orange</th>\n",
              "      <th>choco mint</th>\n",
              "      <th>choco butter naught</th>\n",
              "    </tr>\n",
              "  </thead>\n",
              "  <tbody>\n",
              "    <tr>\n",
              "      <th>price per piece</th>\n",
              "      <td>35</td>\n",
              "      <td>25</td>\n",
              "      <td>20</td>\n",
              "      <td>35</td>\n",
              "      <td>50</td>\n",
              "      <td>40</td>\n",
              "      <td>40</td>\n",
              "      <td>45</td>\n",
              "      <td>30</td>\n",
              "      <td>40</td>\n",
              "      <td>45</td>\n",
              "      <td>45</td>\n",
              "    </tr>\n",
              "    <tr>\n",
              "      <th>cost per piece</th>\n",
              "      <td>25</td>\n",
              "      <td>15</td>\n",
              "      <td>10</td>\n",
              "      <td>20</td>\n",
              "      <td>35</td>\n",
              "      <td>31</td>\n",
              "      <td>30</td>\n",
              "      <td>25</td>\n",
              "      <td>15</td>\n",
              "      <td>25</td>\n",
              "      <td>32</td>\n",
              "      <td>31</td>\n",
              "    </tr>\n",
              "  </tbody>\n",
              "</table>\n",
              "</div>"
            ],
            "text/plain": [
              "                 red velvet  oreo  ...  choco mint  choco butter naught\n",
              "price per piece          35    25  ...          45                   45\n",
              "cost per piece           25    15  ...          32                   31\n",
              "\n",
              "[2 rows x 12 columns]"
            ]
          },
          "metadata": {
            "tags": []
          },
          "execution_count": 206
        }
      ]
    },
    {
      "cell_type": "code",
      "metadata": {
        "id": "ewYnNn1_LH5S",
        "colab": {
          "base_uri": "https://localhost:8080/",
          "height": 434
        },
        "outputId": "34e75ad1-1cb7-4675-af9a-15ee8c0cd228"
      },
      "source": [
        "## Let's check the sales dataframe\n",
        "df_sales"
      ],
      "execution_count": 205,
      "outputs": [
        {
          "output_type": "execute_result",
          "data": {
            "text/html": [
              "<div>\n",
              "<style scoped>\n",
              "    .dataframe tbody tr th:only-of-type {\n",
              "        vertical-align: middle;\n",
              "    }\n",
              "\n",
              "    .dataframe tbody tr th {\n",
              "        vertical-align: top;\n",
              "    }\n",
              "\n",
              "    .dataframe thead th {\n",
              "        text-align: right;\n",
              "    }\n",
              "</style>\n",
              "<table border=\"1\" class=\"dataframe\">\n",
              "  <thead>\n",
              "    <tr style=\"text-align: right;\">\n",
              "      <th></th>\n",
              "      <th>flavor</th>\n",
              "      <th>january</th>\n",
              "      <th>february</th>\n",
              "      <th>march</th>\n",
              "      <th>april</th>\n",
              "      <th>may</th>\n",
              "      <th>june</th>\n",
              "      <th>july</th>\n",
              "      <th>august</th>\n",
              "      <th>september</th>\n",
              "      <th>october</th>\n",
              "      <th>november</th>\n",
              "      <th>december</th>\n",
              "    </tr>\n",
              "  </thead>\n",
              "  <tbody>\n",
              "    <tr>\n",
              "      <th>0</th>\n",
              "      <td>red velvet</td>\n",
              "      <td>781</td>\n",
              "      <td>524</td>\n",
              "      <td>364</td>\n",
              "      <td>157</td>\n",
              "      <td>894</td>\n",
              "      <td>56</td>\n",
              "      <td>89</td>\n",
              "      <td>41</td>\n",
              "      <td>23</td>\n",
              "      <td>78</td>\n",
              "      <td>231</td>\n",
              "      <td>899</td>\n",
              "    </tr>\n",
              "    <tr>\n",
              "      <th>1</th>\n",
              "      <td>oreo</td>\n",
              "      <td>210</td>\n",
              "      <td>324</td>\n",
              "      <td>344</td>\n",
              "      <td>32</td>\n",
              "      <td>123</td>\n",
              "      <td>1</td>\n",
              "      <td>3</td>\n",
              "      <td>0</td>\n",
              "      <td>1</td>\n",
              "      <td>6</td>\n",
              "      <td>312</td>\n",
              "      <td>548</td>\n",
              "    </tr>\n",
              "    <tr>\n",
              "      <th>2</th>\n",
              "      <td>sugar glazed</td>\n",
              "      <td>599</td>\n",
              "      <td>674</td>\n",
              "      <td>854</td>\n",
              "      <td>14</td>\n",
              "      <td>467</td>\n",
              "      <td>78</td>\n",
              "      <td>36</td>\n",
              "      <td>48</td>\n",
              "      <td>75</td>\n",
              "      <td>98</td>\n",
              "      <td>781</td>\n",
              "      <td>1602</td>\n",
              "    </tr>\n",
              "    <tr>\n",
              "      <th>3</th>\n",
              "      <td>almond honey</td>\n",
              "      <td>124</td>\n",
              "      <td>112</td>\n",
              "      <td>114</td>\n",
              "      <td>23</td>\n",
              "      <td>198</td>\n",
              "      <td>12</td>\n",
              "      <td>32</td>\n",
              "      <td>41</td>\n",
              "      <td>23</td>\n",
              "      <td>36</td>\n",
              "      <td>300</td>\n",
              "      <td>566</td>\n",
              "    </tr>\n",
              "    <tr>\n",
              "      <th>4</th>\n",
              "      <td>matcha</td>\n",
              "      <td>645</td>\n",
              "      <td>498</td>\n",
              "      <td>885</td>\n",
              "      <td>98</td>\n",
              "      <td>177</td>\n",
              "      <td>98</td>\n",
              "      <td>43</td>\n",
              "      <td>96</td>\n",
              "      <td>26</td>\n",
              "      <td>71</td>\n",
              "      <td>549</td>\n",
              "      <td>897</td>\n",
              "    </tr>\n",
              "    <tr>\n",
              "      <th>5</th>\n",
              "      <td>strawberry cream</td>\n",
              "      <td>210</td>\n",
              "      <td>372</td>\n",
              "      <td>369</td>\n",
              "      <td>78</td>\n",
              "      <td>163</td>\n",
              "      <td>26</td>\n",
              "      <td>45</td>\n",
              "      <td>22</td>\n",
              "      <td>54</td>\n",
              "      <td>41</td>\n",
              "      <td>207</td>\n",
              "      <td>456</td>\n",
              "    </tr>\n",
              "    <tr>\n",
              "      <th>6</th>\n",
              "      <td>brown sugar boba</td>\n",
              "      <td>981</td>\n",
              "      <td>380</td>\n",
              "      <td>154</td>\n",
              "      <td>14</td>\n",
              "      <td>147</td>\n",
              "      <td>15</td>\n",
              "      <td>98</td>\n",
              "      <td>33</td>\n",
              "      <td>23</td>\n",
              "      <td>36</td>\n",
              "      <td>552</td>\n",
              "      <td>633</td>\n",
              "    </tr>\n",
              "    <tr>\n",
              "      <th>7</th>\n",
              "      <td>furits and nuts</td>\n",
              "      <td>478</td>\n",
              "      <td>462</td>\n",
              "      <td>354</td>\n",
              "      <td>49</td>\n",
              "      <td>89</td>\n",
              "      <td>0</td>\n",
              "      <td>1</td>\n",
              "      <td>0</td>\n",
              "      <td>1</td>\n",
              "      <td>8</td>\n",
              "      <td>335</td>\n",
              "      <td>214</td>\n",
              "    </tr>\n",
              "    <tr>\n",
              "      <th>8</th>\n",
              "      <td>dark chocolate</td>\n",
              "      <td>598</td>\n",
              "      <td>203</td>\n",
              "      <td>36</td>\n",
              "      <td>96</td>\n",
              "      <td>789</td>\n",
              "      <td>4</td>\n",
              "      <td>5</td>\n",
              "      <td>0</td>\n",
              "      <td>8</td>\n",
              "      <td>0</td>\n",
              "      <td>789</td>\n",
              "      <td>458</td>\n",
              "    </tr>\n",
              "    <tr>\n",
              "      <th>9</th>\n",
              "      <td>chocolate and orange</td>\n",
              "      <td>324</td>\n",
              "      <td>123</td>\n",
              "      <td>48</td>\n",
              "      <td>32</td>\n",
              "      <td>65</td>\n",
              "      <td>74</td>\n",
              "      <td>78</td>\n",
              "      <td>45</td>\n",
              "      <td>89</td>\n",
              "      <td>100</td>\n",
              "      <td>632</td>\n",
              "      <td>231</td>\n",
              "    </tr>\n",
              "    <tr>\n",
              "      <th>10</th>\n",
              "      <td>choco mint</td>\n",
              "      <td>458</td>\n",
              "      <td>412</td>\n",
              "      <td>78</td>\n",
              "      <td>78</td>\n",
              "      <td>78</td>\n",
              "      <td>7</td>\n",
              "      <td>3</td>\n",
              "      <td>8</td>\n",
              "      <td>2</td>\n",
              "      <td>1</td>\n",
              "      <td>323</td>\n",
              "      <td>564</td>\n",
              "    </tr>\n",
              "    <tr>\n",
              "      <th>11</th>\n",
              "      <td>choco butter naught</td>\n",
              "      <td>778</td>\n",
              "      <td>586</td>\n",
              "      <td>645</td>\n",
              "      <td>100</td>\n",
              "      <td>987</td>\n",
              "      <td>63</td>\n",
              "      <td>36</td>\n",
              "      <td>89</td>\n",
              "      <td>78</td>\n",
              "      <td>99</td>\n",
              "      <td>784</td>\n",
              "      <td>2310</td>\n",
              "    </tr>\n",
              "  </tbody>\n",
              "</table>\n",
              "</div>"
            ],
            "text/plain": [
              "                  flavor  january  february  ...  october  november  december\n",
              "0             red velvet      781       524  ...       78       231       899\n",
              "1                   oreo      210       324  ...        6       312       548\n",
              "2           sugar glazed      599       674  ...       98       781      1602\n",
              "3           almond honey      124       112  ...       36       300       566\n",
              "4                 matcha      645       498  ...       71       549       897\n",
              "5       strawberry cream      210       372  ...       41       207       456\n",
              "6       brown sugar boba      981       380  ...       36       552       633\n",
              "7        furits and nuts      478       462  ...        8       335       214\n",
              "8         dark chocolate      598       203  ...        0       789       458\n",
              "9   chocolate and orange      324       123  ...      100       632       231\n",
              "10            choco mint      458       412  ...        1       323       564\n",
              "11   choco butter naught      778       586  ...       99       784      2310\n",
              "\n",
              "[12 rows x 13 columns]"
            ]
          },
          "metadata": {
            "tags": []
          },
          "execution_count": 205
        }
      ]
    },
    {
      "cell_type": "markdown",
      "metadata": {
        "id": "BfFBtpfxLH5S"
      },
      "source": [
        "## Part 1: Monthly Sales"
      ]
    },
    {
      "cell_type": "code",
      "metadata": {
        "id": "lO2HWhWNLH5S",
        "colab": {
          "base_uri": "https://localhost:8080/"
        },
        "outputId": "bb77b58c-d148-4ae5-de14-0636d5b1fca1"
      },
      "source": [
        "import numpy as np\n",
        "### Vectorizing the data\n",
        "\n",
        "\n",
        "sales_mat = np.array(df_sales.set_index('flavor'))\n",
        "prices_mats = np.array(df_prices)[:1] ## reshape this vector to the appropriate size\n",
        "costs_mats = np.array(df_prices)[1:] ## reshape this vector to the appropriate size\n",
        "Prices_mat = np.transpose(prices_mats)\n",
        "Costs_mat = np.transpose(costs_mats)\n",
        "\n",
        "## Do not alter these lines\n",
        "print(sales_mat.shape)\n",
        "print(prices_mat.shape)\n",
        "print(costs_mat.shape)\n",
        "# Expected Output\n",
        "# (12, 12)\n",
        "# (12, 1)\n",
        "# (12, 1)"
      ],
      "execution_count": 204,
      "outputs": [
        {
          "output_type": "stream",
          "text": [
            "(12, 12)\n",
            "(12, 1)\n",
            "(12, 1)\n"
          ],
          "name": "stdout"
        }
      ]
    },
    {
      "cell_type": "markdown",
      "metadata": {
        "id": "9-L807YOLH5T"
      },
      "source": [
        "#### Formulas"
      ]
    },
    {
      "cell_type": "markdown",
      "metadata": {
        "id": "nUbleZODLH5T"
      },
      "source": [
        "Take note that the fomula for revenue is: <br>\n",
        "$revenue = sales * price $ <br>\n",
        "In this case, think that revenue, sales, and price are vectors instead of individual values <br>\n",
        "The formula of cost per item sold is: <br>\n",
        "$cost_{sold} = sales * cost$ <br>\n",
        "The formula for profit is: <br>\n",
        "$profit = revenue - cost_{sold}$ <br>\n",
        "Solving for the monthly profit will be the sum of all profits made on that month."
      ]
    },
    {
      "cell_type": "code",
      "metadata": {
        "id": "P0LLZNB-LH5T"
      },
      "source": [
        "#Create a function that *returns* and prints the monthly sales and profit for each month \n",
        "def monthly_sales(price, cost, sales):\n",
        "    monthly_revenue = sales * price\n",
        "    monthly_costs   = sales * cost\n",
        "    monthly_profits = monthly_revenue - monthly_costs  \n",
        "    \n",
        "    monthlyprofit = monthly_profits.transpose()\n",
        "    Monthlyprofits = monthlyprofit.sum(axis = 1)\n",
        "\n",
        "    df_profit = pd.DataFrame(Monthlyprofits)\n",
        "    df_profit.columns = [\"Monthly Profits\"]\n",
        "    df_profit.index = [\"January     [1st month]\",\n",
        "                       \"February    [2nd month]\",\n",
        "                       \"March       [3rd month]\",\n",
        "                       \"April       [4th month]\",\n",
        "                       \"May         [5th month]\",\n",
        "                       \"June        [6th month]\",\n",
        "                       \"July        [7th month]\",\n",
        "                       \"August      [8th month]\",\n",
        "                       \"September   [9th month]\",\n",
        "                       \"October     [10th month]\",\n",
        "                       \"November    [11th month]\",\n",
        "                       \"December    [12th month]\"]\n",
        "                       \n",
        "    print(df_profit)\n",
        "    print(\"\")\n",
        "    print(\"\")\n",
        "    return monthly_revenue.flatten(), monthly_costs.flatten(), monthly_profits.flatten()"
      ],
      "execution_count": 207,
      "outputs": []
    },
    {
      "cell_type": "code",
      "metadata": {
        "id": "0LGNVsfsLH5T",
        "colab": {
          "base_uri": "https://localhost:8080/"
        },
        "outputId": "56f28968-0af9-4823-aae2-2e53cfd7dba3"
      },
      "source": [
        "### Do not alter this cell\n",
        "month_rev, month_cost, month_profit = monthly_sales(prices_mat, costs_mat, sales_mat)\n",
        "### print the values\n",
        "print(\"Monthly Revenue:\\n \\n\" ,month_rev)\n",
        "print(\"\\nMonthly Cost:\\n \\n\"    ,month_cost)\n",
        "print(\"\\nMonthly Profit:\\n \\n\"   ,month_rev)"
      ],
      "execution_count": 208,
      "outputs": [
        {
          "output_type": "stream",
          "text": [
            "                          Monthly Profits\n",
            "January     [1st month]             79371\n",
            "February    [2nd month]             59208\n",
            "March       [3rd month]             53850\n",
            "April       [4th month]             10001\n",
            "May         [5th month]             52824\n",
            "June        [6th month]              5527\n",
            "July        [7th month]              5598\n",
            "August      [8th month]              5498\n",
            "September   [9th month]              5034\n",
            "October     [10th month]             7213\n",
            "November    [11th month]            76548\n",
            "December    [12th month]           117156\n",
            "\n",
            "\n",
            "Monthly Revenue:\n",
            " \n",
            " [ 27335  18340  12740   5495  31290   1960   3115   1435    805   2730\n",
            "   8085  31465   5250   8100   8600    800   3075     25     75      0\n",
            "     25    150   7800  13700  11980  13480  17080    280   9340   1560\n",
            "    720    960   1500   1960  15620  32040   4340   3920   3990    805\n",
            "   6930    420   1120   1435    805   1260  10500  19810  32250  24900\n",
            "  44250   4900   8850   4900   2150   4800   1300   3550  27450  44850\n",
            "   8400  14880  14760   3120   6520   1040   1800    880   2160   1640\n",
            "   8280  18240  39240  15200   6160    560   5880    600   3920   1320\n",
            "    920   1440  22080  25320  21510  20790  15930   2205   4005      0\n",
            "     45      0     45    360  15075   9630  17940   6090   1080   2880\n",
            "  23670    120    150      0    240      0  23670  13740  12960   4920\n",
            "   1920   1280   2600   2960   3120   1800   3560   4000  25280   9240\n",
            "  20610  18540   3510   3510   3510    315    135    360     90     45\n",
            "  14535  25380  35010  26370  29025   4500  44415   2835   1620   4005\n",
            "   3510   4455  35280 103950]\n",
            "\n",
            "Monthly Cost:\n",
            " \n",
            " [19525 13100  9100  3925 22350  1400  2225  1025   575  1950  5775 22475\n",
            "  3150  4860  5160   480  1845    15    45     0    15    90  4680  8220\n",
            "  5990  6740  8540   140  4670   780   360   480   750   980  7810 16020\n",
            "  2480  2240  2280   460  3960   240   640   820   460   720  6000 11320\n",
            " 22575 17430 30975  3430  6195  3430  1505  3360   910  2485 19215 31395\n",
            "  6510 11532 11439  2418  5053   806  1395   682  1674  1271  6417 14136\n",
            " 29430 11400  4620   420  4410   450  2940   990   690  1080 16560 18990\n",
            " 11950 11550  8850  1225  2225     0    25     0    25   200  8375  5350\n",
            "  8970  3045   540  1440 11835    60    75     0   120     0 11835  6870\n",
            "  8100  3075  1200   800  1625  1850  1950  1125  2225  2500 15800  5775\n",
            " 14656 13184  2496  2496  2496   224    96   256    64    32 10336 18048\n",
            " 24118 18166 19995  3100 30597  1953  1116  2759  2418  3069 24304 71610]\n",
            "\n",
            "Monthly Profit:\n",
            " \n",
            " [ 27335  18340  12740   5495  31290   1960   3115   1435    805   2730\n",
            "   8085  31465   5250   8100   8600    800   3075     25     75      0\n",
            "     25    150   7800  13700  11980  13480  17080    280   9340   1560\n",
            "    720    960   1500   1960  15620  32040   4340   3920   3990    805\n",
            "   6930    420   1120   1435    805   1260  10500  19810  32250  24900\n",
            "  44250   4900   8850   4900   2150   4800   1300   3550  27450  44850\n",
            "   8400  14880  14760   3120   6520   1040   1800    880   2160   1640\n",
            "   8280  18240  39240  15200   6160    560   5880    600   3920   1320\n",
            "    920   1440  22080  25320  21510  20790  15930   2205   4005      0\n",
            "     45      0     45    360  15075   9630  17940   6090   1080   2880\n",
            "  23670    120    150      0    240      0  23670  13740  12960   4920\n",
            "   1920   1280   2600   2960   3120   1800   3560   4000  25280   9240\n",
            "  20610  18540   3510   3510   3510    315    135    360     90     45\n",
            "  14535  25380  35010  26370  29025   4500  44415   2835   1620   4005\n",
            "   3510   4455  35280 103950]\n"
          ],
          "name": "stdout"
        }
      ]
    },
    {
      "cell_type": "markdown",
      "metadata": {
        "id": "4WnrnN97LH5T"
      },
      "source": [
        "## Part 2: Flavor Sales"
      ]
    },
    {
      "cell_type": "code",
      "metadata": {
        "id": "qA5UviYjLH5T"
      },
      "source": [
        "#Create a function that *returns* and prints the flavor profits for the whole year \n",
        "flavors = []\n",
        "def flavor_sales(price, cost, sales):\n",
        "    flavor_revenue = sales * price\n",
        "    flavor_costs = sales * cost\n",
        "    flavor_profits = flavor_revenue - flavor_costs \n",
        "    \n",
        "    Red_Velvet = flavor_profits[0].sum()\n",
        "    flavors.append(Red_Velvet)\n",
        "\n",
        "    Oreo = flavor_profits[1].sum()\n",
        "    flavors.append(Oreo)\n",
        "\n",
        "    Sugar_glazed = flavor_profits[2].sum()\n",
        "    flavors.append(Sugar_glazed)\n",
        "\n",
        "    Almond_Honey = flavor_profits[3].sum()\n",
        "    flavors.append(Almond_Honey)\n",
        "\n",
        "    Matcha =  flavor_profits[4].sum()\n",
        "    flavors.append(Matcha)\n",
        "\n",
        "    Strawberry_Cream =  flavor_profits[5].sum()\n",
        "    flavors.append(Strawberry_Cream)\n",
        "\n",
        "    Brown_sugar_Boba =  flavor_profits[6].sum()\n",
        "    flavors.append(Brown_sugar_Boba)\n",
        "\n",
        "    Fruits_and_Nuts =  flavor_profits[7].sum()\n",
        "    flavors.append(Fruits_and_Nuts)\n",
        "\n",
        "    Dark_Chocolate =  flavor_profits[8].sum()\n",
        "    flavors.append(Dark_Chocolate)\n",
        "\n",
        "    Chocolate_and_Orange =  flavor_profits[9].sum()\n",
        "    flavors.append(Chocolate_and_Orange)\n",
        "\n",
        "    Choco_Mint =  flavor_profits[10].sum()\n",
        "    flavors.append(Choco_Mint)\n",
        "\n",
        "    Choco_Butter_Naught =  flavor_profits[11].sum()\n",
        "    flavors.append(Choco_Butter_Naught)\n",
        "\n",
        "    df_flavors = pd.DataFrame(flavors)\n",
        "    df_flavors.columns = [\"Yearly Profit\"]\n",
        "    df_flavors.index = [\"Red Velvet\",\n",
        "                        \"Oreo\",\n",
        "                        \"Sugar Glazed\",\n",
        "                        \"Almond Honey\",\n",
        "                        \"Matcha\",\n",
        "                        \"Strawberry Cream\",\"Brown sugar Boba\",\n",
        "                        \"Fruits and Nuts\",\"Dark Chocolate\",\"Chocolate and Orange\",\n",
        "                        \"Choco Mint\",\"Choco Butter Naught\"]\n",
        "                        \n",
        "    print(df_flavors)\n",
        "    return flavor_profits.flatten()"
      ],
      "execution_count": 228,
      "outputs": []
    },
    {
      "cell_type": "code",
      "metadata": {
        "id": "yYLRLchgLH5U",
        "colab": {
          "base_uri": "https://localhost:8080/"
        },
        "outputId": "a8b556bd-595e-4bb9-dedb-70851c92a042"
      },
      "source": [
        "### Do not alter this cell\n",
        "flavor_profit = flavor_sales(prices_mat, costs_mat, sales_mat)\n",
        "### print the values\n",
        "print(\"\\nRevenue:\\n \\n\" , flavor_profit)"
      ],
      "execution_count": 229,
      "outputs": [
        {
          "output_type": "stream",
          "text": [
            "                      Yearly Profit\n",
            "Red Velvet                    41370\n",
            "Oreo                          19040\n",
            "Sugar Glazed                  53260\n",
            "Almond Honey                  23715\n",
            "Matcha                        61245\n",
            "Strawberry Cream              18387\n",
            "Brown sugar Boba              30660\n",
            "Fruits and Nuts               39820\n",
            "Dark Chocolate                44790\n",
            "Chocolate and Orange          27615\n",
            "Choco Mint                    26156\n",
            "Choco Butter Naught           91770\n",
            "\n",
            "Revenue:\n",
            " \n",
            " [ 7810  5240  3640  1570  8940   560   890   410   230   780  2310  8990\n",
            "  2100  3240  3440   320  1230    10    30     0    10    60  3120  5480\n",
            "  5990  6740  8540   140  4670   780   360   480   750   980  7810 16020\n",
            "  1860  1680  1710   345  2970   180   480   615   345   540  4500  8490\n",
            "  9675  7470 13275  1470  2655  1470   645  1440   390  1065  8235 13455\n",
            "  1890  3348  3321   702  1467   234   405   198   486   369  1863  4104\n",
            "  9810  3800  1540   140  1470   150   980   330   230   360  5520  6330\n",
            "  9560  9240  7080   980  1780     0    20     0    20   160  6700  4280\n",
            "  8970  3045   540  1440 11835    60    75     0   120     0 11835  6870\n",
            "  4860  1845   720   480   975  1110  1170   675  1335  1500  9480  3465\n",
            "  5954  5356  1014  1014  1014    91    39   104    26    13  4199  7332\n",
            " 10892  8204  9030  1400 13818   882   504  1246  1092  1386 10976 32340]\n"
          ],
          "name": "stdout"
        }
      ]
    },
    {
      "cell_type": "code",
      "metadata": {
        "id": "o7i7fpt1LH5U",
        "colab": {
          "base_uri": "https://localhost:8080/"
        },
        "outputId": "6265be7f-0182-422b-de6a-c8e5c0e63607"
      },
      "source": [
        "### identify the best-selling and least-selling flavors. You can use np.sort() or np.argmax() for this.\n",
        "best_3_flavors = [(\"First:\" ,df_sales.iloc[11]['flavor']),(\"second:\",df_sales.iloc[10]['flavor']),(\"third:\",df_sales.iloc[9]['flavor'])]\n",
        "print(\"Best Selling Flavors:\",best_3_flavors)\n",
        "worst_3_flavors = [(\"First:\" ,df_sales.iloc[0]['flavor']),(\"second:\",df_sales.iloc[1]['flavor']),(\"third:\",df_sales.iloc[2]['flavor'])]\n",
        "print(\"Least Selling Flavors:\",worst_3_flavors)"
      ],
      "execution_count": null,
      "outputs": [
        {
          "output_type": "stream",
          "text": [
            "Best Selling Flavors: [('First:', 'choco butter naught'), ('second:', 'choco mint'), ('third:', 'chocolate and orange')]\n",
            "Least Selling Flavors: [('First:', 'red velvet'), ('second:', 'oreo'), ('third:', 'sugar glazed')]\n"
          ],
          "name": "stdout"
        }
      ]
    },
    {
      "cell_type": "markdown",
      "metadata": {
        "id": "pQdmsw8jLH5U"
      },
      "source": [
        "## Part 3: Visualizing the Data (Optional for +40%)\n",
        "You can try to visualize the data in the most comprehensible chart that you can use."
      ]
    },
    {
      "cell_type": "code",
      "metadata": {
        "id": "XY6z5xvfLH5U"
      },
      "source": [
        "import matplotlib.pyplot as plt\n",
        "import matplotlib\n",
        "import seaborn as sns\n",
        "\n",
        "%matplotlib inline"
      ],
      "execution_count": null,
      "outputs": []
    },
    {
      "cell_type": "markdown",
      "metadata": {
        "id": "3_b06v7FLH5U"
      },
      "source": [
        "#### Entire Dataset"
      ]
    },
    {
      "cell_type": "code",
      "metadata": {
        "id": "whgU7kEjLH5V"
      },
      "source": [
        ""
      ],
      "execution_count": null,
      "outputs": []
    },
    {
      "cell_type": "markdown",
      "metadata": {
        "id": "TnRrvdn0LH5V"
      },
      "source": [
        "#### Monthly Sales"
      ]
    },
    {
      "cell_type": "code",
      "metadata": {
        "id": "4r7kCkm9LH5V",
        "colab": {
          "base_uri": "https://localhost:8080/",
          "height": 628
        },
        "outputId": "e196cb81-ada6-4a7e-b536-a32d2fa7194b"
      },
      "source": [
        "A = np.array([[79371, 59208, 53850, 10001, 52824, 5527, 5598, 5498, 5034,\n",
        "               7213, 76548, 117156]])\n",
        "\n",
        "plt.xlim(0,15)\n",
        "plt.ylim(0,15)\n",
        "\n",
        "# plt.quiver(0,0, A[0,0], A[0,1], angles='xy', scale_units='xy',scale=1, color='red') \n",
        "# plt.quiver(0,0, A[1,0], A[1,1], angles='xy', scale_units='xy',scale=1, color='blue')\n",
        "\n",
        "\n",
        "plt.quiver([0,0],[0,0],[0,0],[0,0],[0,0],[0,0],[0,0],[0,0],[0,0],[0,0],[0,0]\n",
        "           ,[0,0],\n",
        "           A[:,0], A[:,1], A[:,2], A[:,3], A[:,4], A[:,5], A[:,6], A[:,7]\n",
        "           , A[:,8],\n",
        "            A[:,9], A[:,10], A[:,11],\n",
        "           angles = 'xy', scale_units = 'xy',scale =1, \n",
        "           color=['crimson','yellow','brown','blue','pink','orange','purple'\n",
        "           ,'green','grey','yellowgreen', 'violet red','dandelion'\n",
        "           ])## use column spaces\n",
        "\n",
        "plt.grid()\n",
        "plt.show()\n",
        "\n",
        "\n",
        "\n",
        "\n"
      ],
      "execution_count": 237,
      "outputs": [
        {
          "output_type": "error",
          "ename": "TypeError",
          "evalue": "ignored",
          "traceback": [
            "\u001b[0;31m---------------------------------------------------------------------------\u001b[0m",
            "\u001b[0;31mTypeError\u001b[0m                                 Traceback (most recent call last)",
            "\u001b[0;32m<ipython-input-237-efce1f6ace21>\u001b[0m in \u001b[0;36m<module>\u001b[0;34m()\u001b[0m\n\u001b[1;32m     15\u001b[0m             \u001b[0mA\u001b[0m\u001b[0;34m[\u001b[0m\u001b[0;34m:\u001b[0m\u001b[0;34m,\u001b[0m\u001b[0;36m9\u001b[0m\u001b[0;34m]\u001b[0m\u001b[0;34m,\u001b[0m \u001b[0mA\u001b[0m\u001b[0;34m[\u001b[0m\u001b[0;34m:\u001b[0m\u001b[0;34m,\u001b[0m\u001b[0;36m10\u001b[0m\u001b[0;34m]\u001b[0m\u001b[0;34m,\u001b[0m \u001b[0mA\u001b[0m\u001b[0;34m[\u001b[0m\u001b[0;34m:\u001b[0m\u001b[0;34m,\u001b[0m\u001b[0;36m11\u001b[0m\u001b[0;34m]\u001b[0m\u001b[0;34m,\u001b[0m\u001b[0;34m\u001b[0m\u001b[0;34m\u001b[0m\u001b[0m\n\u001b[1;32m     16\u001b[0m            \u001b[0mangles\u001b[0m \u001b[0;34m=\u001b[0m \u001b[0;34m'xy'\u001b[0m\u001b[0;34m,\u001b[0m \u001b[0mscale_units\u001b[0m \u001b[0;34m=\u001b[0m \u001b[0;34m'xy'\u001b[0m\u001b[0;34m,\u001b[0m\u001b[0mscale\u001b[0m \u001b[0;34m=\u001b[0m \u001b[0;36m1\u001b[0m\u001b[0;34m,\u001b[0m\u001b[0;34m\u001b[0m\u001b[0;34m\u001b[0m\u001b[0m\n\u001b[0;32m---> 17\u001b[0;31m            color=['crimson','yellow'])## use column spaces\n\u001b[0m\u001b[1;32m     18\u001b[0m \u001b[0;34m\u001b[0m\u001b[0m\n\u001b[1;32m     19\u001b[0m \u001b[0mplt\u001b[0m\u001b[0;34m.\u001b[0m\u001b[0mgrid\u001b[0m\u001b[0;34m(\u001b[0m\u001b[0;34m)\u001b[0m\u001b[0;34m\u001b[0m\u001b[0;34m\u001b[0m\u001b[0m\n",
            "\u001b[0;32m/usr/local/lib/python3.7/dist-packages/matplotlib/pyplot.py\u001b[0m in \u001b[0;36mquiver\u001b[0;34m(data, *args, **kw)\u001b[0m\n\u001b[1;32m   2791\u001b[0m \u001b[0;32mdef\u001b[0m \u001b[0mquiver\u001b[0m\u001b[0;34m(\u001b[0m\u001b[0;34m*\u001b[0m\u001b[0margs\u001b[0m\u001b[0;34m,\u001b[0m \u001b[0mdata\u001b[0m\u001b[0;34m=\u001b[0m\u001b[0;32mNone\u001b[0m\u001b[0;34m,\u001b[0m \u001b[0;34m**\u001b[0m\u001b[0mkw\u001b[0m\u001b[0;34m)\u001b[0m\u001b[0;34m:\u001b[0m\u001b[0;34m\u001b[0m\u001b[0;34m\u001b[0m\u001b[0m\n\u001b[1;32m   2792\u001b[0m     __ret = gca().quiver(\n\u001b[0;32m-> 2793\u001b[0;31m         *args, **({\"data\": data} if data is not None else {}), **kw)\n\u001b[0m\u001b[1;32m   2794\u001b[0m     \u001b[0msci\u001b[0m\u001b[0;34m(\u001b[0m\u001b[0m__ret\u001b[0m\u001b[0;34m)\u001b[0m\u001b[0;34m\u001b[0m\u001b[0;34m\u001b[0m\u001b[0m\n\u001b[1;32m   2795\u001b[0m     \u001b[0;32mreturn\u001b[0m \u001b[0m__ret\u001b[0m\u001b[0;34m\u001b[0m\u001b[0;34m\u001b[0m\u001b[0m\n",
            "\u001b[0;32m/usr/local/lib/python3.7/dist-packages/matplotlib/__init__.py\u001b[0m in \u001b[0;36minner\u001b[0;34m(ax, data, *args, **kwargs)\u001b[0m\n\u001b[1;32m   1563\u001b[0m     \u001b[0;32mdef\u001b[0m \u001b[0minner\u001b[0m\u001b[0;34m(\u001b[0m\u001b[0max\u001b[0m\u001b[0;34m,\u001b[0m \u001b[0;34m*\u001b[0m\u001b[0margs\u001b[0m\u001b[0;34m,\u001b[0m \u001b[0mdata\u001b[0m\u001b[0;34m=\u001b[0m\u001b[0;32mNone\u001b[0m\u001b[0;34m,\u001b[0m \u001b[0;34m**\u001b[0m\u001b[0mkwargs\u001b[0m\u001b[0;34m)\u001b[0m\u001b[0;34m:\u001b[0m\u001b[0;34m\u001b[0m\u001b[0;34m\u001b[0m\u001b[0m\n\u001b[1;32m   1564\u001b[0m         \u001b[0;32mif\u001b[0m \u001b[0mdata\u001b[0m \u001b[0;32mis\u001b[0m \u001b[0;32mNone\u001b[0m\u001b[0;34m:\u001b[0m\u001b[0;34m\u001b[0m\u001b[0;34m\u001b[0m\u001b[0m\n\u001b[0;32m-> 1565\u001b[0;31m             \u001b[0;32mreturn\u001b[0m \u001b[0mfunc\u001b[0m\u001b[0;34m(\u001b[0m\u001b[0max\u001b[0m\u001b[0;34m,\u001b[0m \u001b[0;34m*\u001b[0m\u001b[0mmap\u001b[0m\u001b[0;34m(\u001b[0m\u001b[0msanitize_sequence\u001b[0m\u001b[0;34m,\u001b[0m \u001b[0margs\u001b[0m\u001b[0;34m)\u001b[0m\u001b[0;34m,\u001b[0m \u001b[0;34m**\u001b[0m\u001b[0mkwargs\u001b[0m\u001b[0;34m)\u001b[0m\u001b[0;34m\u001b[0m\u001b[0;34m\u001b[0m\u001b[0m\n\u001b[0m\u001b[1;32m   1566\u001b[0m \u001b[0;34m\u001b[0m\u001b[0m\n\u001b[1;32m   1567\u001b[0m         \u001b[0mbound\u001b[0m \u001b[0;34m=\u001b[0m \u001b[0mnew_sig\u001b[0m\u001b[0;34m.\u001b[0m\u001b[0mbind\u001b[0m\u001b[0;34m(\u001b[0m\u001b[0max\u001b[0m\u001b[0;34m,\u001b[0m \u001b[0;34m*\u001b[0m\u001b[0margs\u001b[0m\u001b[0;34m,\u001b[0m \u001b[0;34m**\u001b[0m\u001b[0mkwargs\u001b[0m\u001b[0;34m)\u001b[0m\u001b[0;34m\u001b[0m\u001b[0;34m\u001b[0m\u001b[0m\n",
            "\u001b[0;32m/usr/local/lib/python3.7/dist-packages/matplotlib/axes/_axes.py\u001b[0m in \u001b[0;36mquiver\u001b[0;34m(self, *args, **kw)\u001b[0m\n\u001b[1;32m   4976\u001b[0m         \u001b[0margs\u001b[0m \u001b[0;34m=\u001b[0m \u001b[0mself\u001b[0m\u001b[0;34m.\u001b[0m\u001b[0m_quiver_units\u001b[0m\u001b[0;34m(\u001b[0m\u001b[0margs\u001b[0m\u001b[0;34m,\u001b[0m \u001b[0mkw\u001b[0m\u001b[0;34m)\u001b[0m\u001b[0;34m\u001b[0m\u001b[0;34m\u001b[0m\u001b[0m\n\u001b[1;32m   4977\u001b[0m \u001b[0;34m\u001b[0m\u001b[0m\n\u001b[0;32m-> 4978\u001b[0;31m         \u001b[0mq\u001b[0m \u001b[0;34m=\u001b[0m \u001b[0mmquiver\u001b[0m\u001b[0;34m.\u001b[0m\u001b[0mQuiver\u001b[0m\u001b[0;34m(\u001b[0m\u001b[0mself\u001b[0m\u001b[0;34m,\u001b[0m \u001b[0;34m*\u001b[0m\u001b[0margs\u001b[0m\u001b[0;34m,\u001b[0m \u001b[0;34m**\u001b[0m\u001b[0mkw\u001b[0m\u001b[0;34m)\u001b[0m\u001b[0;34m\u001b[0m\u001b[0;34m\u001b[0m\u001b[0m\n\u001b[0m\u001b[1;32m   4979\u001b[0m \u001b[0;34m\u001b[0m\u001b[0m\n\u001b[1;32m   4980\u001b[0m         \u001b[0mself\u001b[0m\u001b[0;34m.\u001b[0m\u001b[0madd_collection\u001b[0m\u001b[0;34m(\u001b[0m\u001b[0mq\u001b[0m\u001b[0;34m,\u001b[0m \u001b[0mautolim\u001b[0m\u001b[0;34m=\u001b[0m\u001b[0;32mTrue\u001b[0m\u001b[0;34m)\u001b[0m\u001b[0;34m\u001b[0m\u001b[0;34m\u001b[0m\u001b[0m\n",
            "\u001b[0;32m/usr/local/lib/python3.7/dist-packages/matplotlib/quiver.py\u001b[0m in \u001b[0;36m__init__\u001b[0;34m(self, ax, scale, headwidth, headlength, headaxislength, minshaft, minlength, units, scale_units, angles, width, color, pivot, *args, **kw)\u001b[0m\n\u001b[1;32m    482\u001b[0m         \"\"\"\n\u001b[1;32m    483\u001b[0m         \u001b[0mself\u001b[0m\u001b[0;34m.\u001b[0m\u001b[0max\u001b[0m \u001b[0;34m=\u001b[0m \u001b[0max\u001b[0m\u001b[0;34m\u001b[0m\u001b[0;34m\u001b[0m\u001b[0m\n\u001b[0;32m--> 484\u001b[0;31m         \u001b[0mX\u001b[0m\u001b[0;34m,\u001b[0m \u001b[0mY\u001b[0m\u001b[0;34m,\u001b[0m \u001b[0mU\u001b[0m\u001b[0;34m,\u001b[0m \u001b[0mV\u001b[0m\u001b[0;34m,\u001b[0m \u001b[0mC\u001b[0m \u001b[0;34m=\u001b[0m \u001b[0m_parse_args\u001b[0m\u001b[0;34m(\u001b[0m\u001b[0;34m*\u001b[0m\u001b[0margs\u001b[0m\u001b[0;34m,\u001b[0m \u001b[0mcaller_name\u001b[0m\u001b[0;34m=\u001b[0m\u001b[0;34m'quiver()'\u001b[0m\u001b[0;34m)\u001b[0m\u001b[0;34m\u001b[0m\u001b[0;34m\u001b[0m\u001b[0m\n\u001b[0m\u001b[1;32m    485\u001b[0m         \u001b[0mself\u001b[0m\u001b[0;34m.\u001b[0m\u001b[0mX\u001b[0m \u001b[0;34m=\u001b[0m \u001b[0mX\u001b[0m\u001b[0;34m\u001b[0m\u001b[0;34m\u001b[0m\u001b[0m\n\u001b[1;32m    486\u001b[0m         \u001b[0mself\u001b[0m\u001b[0;34m.\u001b[0m\u001b[0mY\u001b[0m \u001b[0;34m=\u001b[0m \u001b[0mY\u001b[0m\u001b[0;34m\u001b[0m\u001b[0;34m\u001b[0m\u001b[0m\n",
            "\u001b[0;32m/usr/local/lib/python3.7/dist-packages/matplotlib/quiver.py\u001b[0m in \u001b[0;36m_parse_args\u001b[0;34m(caller_name, *args)\u001b[0m\n\u001b[1;32m    424\u001b[0m         \u001b[0mX\u001b[0m\u001b[0;34m,\u001b[0m \u001b[0mY\u001b[0m\u001b[0;34m,\u001b[0m \u001b[0mU\u001b[0m\u001b[0;34m,\u001b[0m \u001b[0mV\u001b[0m\u001b[0;34m,\u001b[0m \u001b[0mC\u001b[0m \u001b[0;34m=\u001b[0m \u001b[0mnp\u001b[0m\u001b[0;34m.\u001b[0m\u001b[0matleast_1d\u001b[0m\u001b[0;34m(\u001b[0m\u001b[0;34m*\u001b[0m\u001b[0margs\u001b[0m\u001b[0;34m)\u001b[0m\u001b[0;34m\u001b[0m\u001b[0;34m\u001b[0m\u001b[0m\n\u001b[1;32m    425\u001b[0m     \u001b[0;32melse\u001b[0m\u001b[0;34m:\u001b[0m\u001b[0;34m\u001b[0m\u001b[0;34m\u001b[0m\u001b[0m\n\u001b[0;32m--> 426\u001b[0;31m         raise TypeError(f'{caller_name} takes 2-5 positional arguments but '\n\u001b[0m\u001b[1;32m    427\u001b[0m                         f'{len_args} were given')\n\u001b[1;32m    428\u001b[0m \u001b[0;34m\u001b[0m\u001b[0m\n",
            "\u001b[0;31mTypeError\u001b[0m: quiver() takes 2-5 positional arguments but 24 were given"
          ]
        },
        {
          "output_type": "display_data",
          "data": {
            "image/png": "[encoded data removed]",
            "text/plain": [
              "<Figure size 432x288 with 1 Axes>"
            ]
          },
          "metadata": {
            "tags": [],
            "needs_background": "light"
          }
        }
      ]
    },
    {
      "cell_type": "markdown",
      "metadata": {
        "id": "qQl5kt1oLH5V"
      },
      "source": [
        "#### Flavor Sales"
      ]
    },
    {
      "cell_type": "code",
      "metadata": {
        "id": "09csCLluLH5V"
      },
      "source": [
        ""
      ],
      "execution_count": null,
      "outputs": []
    },
    {
      "cell_type": "markdown",
      "metadata": {
        "id": "m09WIdTVLH5V"
      },
      "source": [
        "## Part 4: Business Recommendation and Conclusion\n",
        "Present the findings of your data analysis and provide recommendations"
      ]
    },
    {
      "cell_type": "markdown",
      "metadata": {
        "id": "7RvqmzHeLH5V"
      },
      "source": [
        "Add your statement here"
      ]
    }
  ]
}